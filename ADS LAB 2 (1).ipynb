{
 "cells": [
  {
   "cell_type": "markdown",
   "id": "c8fd3032",
   "metadata": {},
   "source": [
    "# SENTIMENTAL ANALYSIS OF CAR REVIEWS"
   ]
  },
  {
   "cell_type": "markdown",
   "id": "e8769bcc",
   "metadata": {},
   "source": [
    "## Dataset (car_reviews.csv)\n",
    "We were provided with a large dataset of reviews for Ford motor vehicles (car_reviews.csv). Each review is\n",
    "labelled with either ‘Pos’ or ‘Neg’ to indicate whether the review has been assessed as positive or negative in the\n",
    "sentiment it expresses. We have treated these labels as a reliable indicator of sentiment. We have assumed that there\n",
    "are no neutral reviews. There are 1,382 reviews in the CSV file in total, 691 of which are positive and 691 of which\n",
    "are negative."
   ]
  },
  {
   "cell_type": "markdown",
   "id": "bc045562",
   "metadata": {},
   "source": [
    "## Task 1\n",
    "\n",
    "In this Jupyter notebook, I have implement a `Naïve Bayes classifier` using 80% (1106) of the reviews as training data. The\n",
    "training data was selected at random from the full dataset. Classifier was tested using the remaining 20% (276)\n",
    "of the reviews and classifier’s performance was reported using a `confusion matrix`."
   ]
  },
  {
   "cell_type": "markdown",
   "id": "9b972e90",
   "metadata": {},
   "source": [
    "## Loading the Data\n",
    "The very first step to start any data science analysis is to load the data. I have used `pandas` to upload the file containing reviews in CSV file. The CSV file was uploaded to the jupyter platform."
   ]
  },
  {
   "cell_type": "code",
   "execution_count": 1,
   "id": "eaaeccb7",
   "metadata": {},
   "outputs": [
    {
     "data": {
      "text/html": [
       "<div>\n",
       "<style scoped>\n",
       "    .dataframe tbody tr th:only-of-type {\n",
       "        vertical-align: middle;\n",
       "    }\n",
       "\n",
       "    .dataframe tbody tr th {\n",
       "        vertical-align: top;\n",
       "    }\n",
       "\n",
       "    .dataframe thead th {\n",
       "        text-align: right;\n",
       "    }\n",
       "</style>\n",
       "<table border=\"1\" class=\"dataframe\">\n",
       "  <thead>\n",
       "    <tr style=\"text-align: right;\">\n",
       "      <th></th>\n",
       "      <th>Sentiment</th>\n",
       "      <th>Review</th>\n",
       "    </tr>\n",
       "  </thead>\n",
       "  <tbody>\n",
       "    <tr>\n",
       "      <th>0</th>\n",
       "      <td>Neg</td>\n",
       "      <td>In 1992 we bought a new Taurus and we really ...</td>\n",
       "    </tr>\n",
       "    <tr>\n",
       "      <th>1</th>\n",
       "      <td>Neg</td>\n",
       "      <td>The last business trip  I drove to San Franci...</td>\n",
       "    </tr>\n",
       "    <tr>\n",
       "      <th>2</th>\n",
       "      <td>Neg</td>\n",
       "      <td>My husband and I purchased a 1990 Ford F250 a...</td>\n",
       "    </tr>\n",
       "    <tr>\n",
       "      <th>3</th>\n",
       "      <td>Neg</td>\n",
       "      <td>I feel I have a thorough opinion of this truc...</td>\n",
       "    </tr>\n",
       "    <tr>\n",
       "      <th>4</th>\n",
       "      <td>Neg</td>\n",
       "      <td>AS a mother of 3  all of whom are still in ca...</td>\n",
       "    </tr>\n",
       "    <tr>\n",
       "      <th>5</th>\n",
       "      <td>Neg</td>\n",
       "      <td>The Ford Winstar is a car that I would not re...</td>\n",
       "    </tr>\n",
       "    <tr>\n",
       "      <th>6</th>\n",
       "      <td>Neg</td>\n",
       "      <td>We bought this van in 1999  after having been...</td>\n",
       "    </tr>\n",
       "    <tr>\n",
       "      <th>7</th>\n",
       "      <td>Neg</td>\n",
       "      <td>I bought the Focus wagon for it s cargo space...</td>\n",
       "    </tr>\n",
       "    <tr>\n",
       "      <th>8</th>\n",
       "      <td>Neg</td>\n",
       "      <td>You ve probably heard about the giant 2000 Fo...</td>\n",
       "    </tr>\n",
       "    <tr>\n",
       "      <th>9</th>\n",
       "      <td>Neg</td>\n",
       "      <td>If you thought that the GMC Chevrolet Suburba...</td>\n",
       "    </tr>\n",
       "    <tr>\n",
       "      <th>10</th>\n",
       "      <td>Neg</td>\n",
       "      <td>I went for a test drive in a 2000 Excursion w...</td>\n",
       "    </tr>\n",
       "    <tr>\n",
       "      <th>11</th>\n",
       "      <td>Neg</td>\n",
       "      <td>This segment added later It appears as thoug...</td>\n",
       "    </tr>\n",
       "    <tr>\n",
       "      <th>12</th>\n",
       "      <td>Neg</td>\n",
       "      <td>SUV s  SOB s and PMS great what a deadly comb...</td>\n",
       "    </tr>\n",
       "    <tr>\n",
       "      <th>13</th>\n",
       "      <td>Neg</td>\n",
       "      <td>Hey everybody  I don t own this car  I haven ...</td>\n",
       "    </tr>\n",
       "    <tr>\n",
       "      <th>14</th>\n",
       "      <td>Neg</td>\n",
       "      <td>I bought this vehicle to have a safe vehicle ...</td>\n",
       "    </tr>\n",
       "  </tbody>\n",
       "</table>\n",
       "</div>"
      ],
      "text/plain": [
       "   Sentiment                                             Review\n",
       "0        Neg   In 1992 we bought a new Taurus and we really ...\n",
       "1        Neg   The last business trip  I drove to San Franci...\n",
       "2        Neg   My husband and I purchased a 1990 Ford F250 a...\n",
       "3        Neg   I feel I have a thorough opinion of this truc...\n",
       "4        Neg   AS a mother of 3  all of whom are still in ca...\n",
       "5        Neg   The Ford Winstar is a car that I would not re...\n",
       "6        Neg   We bought this van in 1999  after having been...\n",
       "7        Neg   I bought the Focus wagon for it s cargo space...\n",
       "8        Neg   You ve probably heard about the giant 2000 Fo...\n",
       "9        Neg   If you thought that the GMC Chevrolet Suburba...\n",
       "10       Neg   I went for a test drive in a 2000 Excursion w...\n",
       "11       Neg    This segment added later It appears as thoug...\n",
       "12       Neg   SUV s  SOB s and PMS great what a deadly comb...\n",
       "13       Neg   Hey everybody  I don t own this car  I haven ...\n",
       "14       Neg   I bought this vehicle to have a safe vehicle ..."
      ]
     },
     "execution_count": 1,
     "metadata": {},
     "output_type": "execute_result"
    }
   ],
   "source": [
    "# reading data from CSV file (file uploded to jupyter notebook)\n",
    "import pandas as pd\n",
    "datafile = pd.read_csv(\"car_reviews.csv\")\n",
    "# showing how data looks like\n",
    "datafile.head(15)"
   ]
  },
  {
   "cell_type": "code",
   "execution_count": 18,
   "id": "09df19aa",
   "metadata": {},
   "outputs": [
    {
     "data": {
      "text/plain": [
       "Neg    691\n",
       "Pos    691\n",
       "Name: Sentiment, dtype: int64"
      ]
     },
     "execution_count": 18,
     "metadata": {},
     "output_type": "execute_result"
    }
   ],
   "source": [
    "# Types and Number of each sentiment\n",
    "datafile.Sentiment.value_counts()"
   ]
  },
  {
   "cell_type": "markdown",
   "id": "1d85dc97",
   "metadata": {},
   "source": [
    "## Importing Required Libraries\n",
    "\n",
    "Apart from pandas, there are other library that I will be using to carry out the analysis. I will be explaining the implementation of each library later in the notebook."
   ]
  },
  {
   "cell_type": "code",
   "execution_count": 2,
   "id": "328f6fba",
   "metadata": {},
   "outputs": [],
   "source": [
    "import numpy as np\n",
    "import seaborn as sns\n",
    "import re\n",
    "from IPython.display import display\n",
    "import nltk\n",
    "from nltk.corpus import stopwords\n",
    "from nltk.tokenize import word_tokenize\n",
    "from nltk.stem.porter import PorterStemmer\n",
    "from sklearn.naive_bayes import MultinomialNB\n",
    "from sklearn.model_selection import train_test_split\n",
    "from sklearn.feature_extraction.text import CountVectorizer\n",
    "from sklearn.metrics import confusion_matrix, accuracy_score"
   ]
  },
  {
   "cell_type": "markdown",
   "id": "2510c910",
   "metadata": {},
   "source": [
    "After importing the data, it it important to clean it. *Natural Language Toolkit*, `NLTK`, has been used to do the necessary processing. Cleaning of the data should include: \n",
    "1. Identifying and excluding all punctuation and words that are not likely to affect sentiment (e.g. stopwords2).\n",
    "2. ensuring that remaining words are not case sensitive (i.e. the classifier should not distinguish upper/lower case characters).\n",
    "\n",
    "`.lower` and `re.sub` is used to convert the text to lowercase and removing required character from text respectively. List of `stopwords` provided by `nltk` is used alongside with `word_tokenize` and `PortStemmer` function."
   ]
  },
  {
   "cell_type": "code",
   "execution_count": 3,
   "id": "4b1c8c64",
   "metadata": {},
   "outputs": [
    {
     "name": "stderr",
     "output_type": "stream",
     "text": [
      "[nltk_data] Downloading package stopwords to\n",
      "[nltk_data]     C:\\Users\\suhai\\AppData\\Roaming\\nltk_data...\n",
      "[nltk_data]   Package stopwords is already up-to-date!\n",
      "[nltk_data] Downloading package punkt to\n",
      "[nltk_data]     C:\\Users\\suhai\\AppData\\Roaming\\nltk_data...\n",
      "[nltk_data]   Package punkt is already up-to-date!\n"
     ]
    },
    {
     "data": {
      "text/plain": [
       "True"
      ]
     },
     "execution_count": 3,
     "metadata": {},
     "output_type": "execute_result"
    }
   ],
   "source": [
    "# Downloading stopwords and word_tokenize\n",
    "nltk.download('stopwords')\n",
    "nltk.download('punkt')"
   ]
  },
  {
   "cell_type": "markdown",
   "id": "770e833f",
   "metadata": {},
   "source": [
    "## Cleaning Function\n",
    "It is carried out in following steps:\n",
    "1. Converting text to lowercase\n",
    "2. Removing characters other than alphabets and Numbers.\n",
    "3. Splitting text into tokens\n",
    "4. Stemming to reduce the lenght of sparse vectors"
   ]
  },
  {
   "cell_type": "code",
   "execution_count": 4,
   "id": "122bf2e1",
   "metadata": {},
   "outputs": [],
   "source": [
    "# assigning PorterStemmer as ps\n",
    "ps = PorterStemmer()\n",
    "\n",
    "# defining clean function\n",
    "def data_clean(review):\n",
    "    \n",
    "    # converting text to lowercase\n",
    "    lower_review = review.lower()\n",
    "    # excluding characters other than alphabets and numbers\n",
    "    filtered_review = re.sub('[^a-z0-9]', ' ', lower_review)\n",
    "    # tokenizing words\n",
    "    tokenize = word_tokenize(filtered_review)\n",
    "    # Implementing stemming\n",
    "    stem_words_list = [ps.stem(word) for word in tokenize if word not in set(stopwords.words('english'))]\n",
    "    # converting list to string\n",
    "    final_cleaned_review = ' '.join(stem_words_list)\n",
    "    \n",
    "    return final_cleaned_review"
   ]
  },
  {
   "cell_type": "markdown",
   "id": "497915d4",
   "metadata": {},
   "source": [
    "## Preview of Cleaning Function\n",
    "It demonstrates the cleaning function of one review. It outputs the original, lowercase, and final cleaned text."
   ]
  },
  {
   "cell_type": "code",
   "execution_count": 5,
   "id": "68c70dc8",
   "metadata": {},
   "outputs": [
    {
     "name": "stdout",
     "output_type": "stream",
     "text": [
      "Original Review:\n",
      "\n",
      " I feel I have a thorough opinion of this truck compared to most who post evaluations of their vehicles  My truck has been owned by me since new and currently have 75k miles  I ve been meticulous with maintenance and treating my truck with normal duty activities  never exceeding the manufacturer s recommendations This is information regarding my vehicle and the excessive amount of problems found during an inspection 15 Sept 2003  It s reference for anyone else who has had the same problems or looking for information regarding warranties and extended warranties  You are welcome to give some feedback  VEHICLE  2000 FORD F150 5 4L 4x4 XLT w  Off Road   Tow Package 17  Rims  Everything factory install  all the top options included  EXTENDED WARRANTY  Purchased FORD s version 75K mile Bumper to Bumper coverage when new  50 deductible per drive in occurrence  DRIVING CONDITIONS  Never taken off road  Never towed anything of significant weight and Never used inappropriately Toward the last 400 miles of my 75K mile Ford purchased extended warranty bumper to bumper plan  the passenger side power door lock failed and the ABS light turned on  I brought it in to the dealer for an inspection along with some squeeking of the front end  thought it was a tire rim leak  PROBLEMS FOUND 1  All 4 tie rods  inners and outers  bad 2  Lower ball joints  bad 3  ABS Codes C1095 and C1096  ECU and HCU Controller and Module Assembly  bad 4  Passenger side door lock actuator  bad 5  Power Steering Pump  bad  air conditioning warranty replaced back at 30k miles  All items above were replaced under the purchased extended warranty bumber to bumber plan  EXCEPT a kit for the module assembly on the ABS  I will dispute that today  but had to pay for it to get it done  I am shocked that this much damage was found for a vehicle at only 75k miles proclaimed to be  Built Ford Tough  yet only offering a 36K mile manufacturer warranty  If I did not have the extended warranty  I could only guess the bill to pay for this The extended cab seating is extremely cramped  My friends refuse to be a passenger in the back  The rear bench seating is hard  very uncomfortable  General Motors seems to have very comfortable and roomy seating in their comparable models  The ignition is hidden and difficult to find  The stereo is second class for sound and tuning stations  especially AM  Factory installed tires have no significant grip traction after 10 000 miles  I recommend getting a spray in liner to help prevent the large dents and scratches that have happened in my truck  but not trucks that have been sprayed  The metal can t hold up and appears thin for the bed I do like the exterior look of the F150  The height is fantastic  I can see all around while driving  it certainly upsets small vehicle drivers behind me  tailgating me and assuming I m a slow road hog in the left lane  but when trying to pass  they see the road jammed full of cars in front of me  bumper to bumper  Accelerations and towing torque are very good  Although now I sense a loss or hesitation on a occasions when I have to suddenly put the petal to the medal to avoid accidents Expect to pay the value of your truck in maintenance costs from the dealer  They make their money on repairs and maintenance  very expensive  I m not complaining about this  but you buy and expensive truck  expect to pay for the maintenance  \n",
      "\n",
      "\n",
      "Review in Lowercase:\n",
      "\n",
      " i feel i have a thorough opinion of this truck compared to most who post evaluations of their vehicles  my truck has been owned by me since new and currently have 75k miles  i ve been meticulous with maintenance and treating my truck with normal duty activities  never exceeding the manufacturer s recommendations this is information regarding my vehicle and the excessive amount of problems found during an inspection 15 sept 2003  it s reference for anyone else who has had the same problems or looking for information regarding warranties and extended warranties  you are welcome to give some feedback  vehicle  2000 ford f150 5 4l 4x4 xlt w  off road   tow package 17  rims  everything factory install  all the top options included  extended warranty  purchased ford s version 75k mile bumper to bumper coverage when new  50 deductible per drive in occurrence  driving conditions  never taken off road  never towed anything of significant weight and never used inappropriately toward the last 400 miles of my 75k mile ford purchased extended warranty bumper to bumper plan  the passenger side power door lock failed and the abs light turned on  i brought it in to the dealer for an inspection along with some squeeking of the front end  thought it was a tire rim leak  problems found 1  all 4 tie rods  inners and outers  bad 2  lower ball joints  bad 3  abs codes c1095 and c1096  ecu and hcu controller and module assembly  bad 4  passenger side door lock actuator  bad 5  power steering pump  bad  air conditioning warranty replaced back at 30k miles  all items above were replaced under the purchased extended warranty bumber to bumber plan  except a kit for the module assembly on the abs  i will dispute that today  but had to pay for it to get it done  i am shocked that this much damage was found for a vehicle at only 75k miles proclaimed to be  built ford tough  yet only offering a 36k mile manufacturer warranty  if i did not have the extended warranty  i could only guess the bill to pay for this the extended cab seating is extremely cramped  my friends refuse to be a passenger in the back  the rear bench seating is hard  very uncomfortable  general motors seems to have very comfortable and roomy seating in their comparable models  the ignition is hidden and difficult to find  the stereo is second class for sound and tuning stations  especially am  factory installed tires have no significant grip traction after 10 000 miles  i recommend getting a spray in liner to help prevent the large dents and scratches that have happened in my truck  but not trucks that have been sprayed  the metal can t hold up and appears thin for the bed i do like the exterior look of the f150  the height is fantastic  i can see all around while driving  it certainly upsets small vehicle drivers behind me  tailgating me and assuming i m a slow road hog in the left lane  but when trying to pass  they see the road jammed full of cars in front of me  bumper to bumper  accelerations and towing torque are very good  although now i sense a loss or hesitation on a occasions when i have to suddenly put the petal to the medal to avoid accidents expect to pay the value of your truck in maintenance costs from the dealer  they make their money on repairs and maintenance  very expensive  i m not complaining about this  but you buy and expensive truck  expect to pay for the maintenance  \n",
      "\n",
      "\n",
      "Review after Cleaning: \n",
      "\n",
      "feel thorough opinion truck compar post evalu vehicl truck own sinc new current 75k mile meticul mainten treat truck normal duti activ never exceed manufactur recommend inform regard vehicl excess amount problem found inspect 15 sept 2003 refer anyon els problem look inform regard warranti extend warranti welcom give feedback vehicl 2000 ford f150 5 4l 4x4 xlt w road tow packag 17 rim everyth factori instal top option includ extend warranti purchas ford version 75k mile bumper bumper coverag new 50 deduct per drive occurr drive condit never taken road never tow anyth signific weight never use inappropri toward last 400 mile 75k mile ford purchas extend warranti bumper bumper plan passeng side power door lock fail ab light turn brought dealer inspect along squeek front end thought tire rim leak problem found 1 4 tie rod inner outer bad 2 lower ball joint bad 3 ab code c1095 c1096 ecu hcu control modul assembl bad 4 passeng side door lock actuat bad 5 power steer pump bad air condit warranti replac back 30k mile item replac purchas extend warranti bumber bumber plan except kit modul assembl ab disput today pay get done shock much damag found vehicl 75k mile proclaim built ford tough yet offer 36k mile manufactur warranti extend warranti could guess bill pay extend cab seat extrem cramp friend refus passeng back rear bench seat hard uncomfort gener motor seem comfort roomi seat compar model ignit hidden difficult find stereo second class sound tune station especi factori instal tire signific grip traction 10 000 mile recommend get spray liner help prevent larg dent scratch happen truck truck spray metal hold appear thin bed like exterior look f150 height fantast see around drive certainli upset small vehicl driver behind tailgat assum slow road hog left lane tri pass see road jam full car front bumper bumper acceler tow torqu good although sens loss hesit occas suddenli put petal medal avoid accid expect pay valu truck mainten cost dealer make money repair mainten expens complain buy expens truck expect pay mainten\n"
     ]
    }
   ],
   "source": [
    "# Taking fourth review at random\n",
    "original_review = datafile['Review'][3]\n",
    "\n",
    "# Implementing the above cleaning function line by line for fourth review\n",
    "lower_review = original_review.lower()\n",
    "filtered_review = re.sub('[^a-z0-9]', ' ', lower_review)\n",
    "tokenize = word_tokenize(filtered_review)\n",
    "stem_words_list = [ps.stem(word) for word in tokenize if word not in set(stopwords.words('english'))]\n",
    "final_cleaned_review = \" \".join(stem_words_list)\n",
    "\n",
    "# Outputtinf the original review, lower review and cleaned review for comparision\n",
    "print('Original Review:\\n')\n",
    "print(original_review)\n",
    "print('\\n')\n",
    "print('Review in Lowercase:\\n')\n",
    "print(lower_review)\n",
    "print('\\n')\n",
    "print('Review after Cleaning: \\n')\n",
    "print(final_cleaned_review)"
   ]
  },
  {
   "cell_type": "markdown",
   "id": "b0412602",
   "metadata": {},
   "source": [
    "## Preview of Stemming Process\n",
    "In the stemming process, we use `PortStemmer` function on words that have the same stem. This function returns the stem of the multiple words. Here, the stem of each words have been added to list using list comprehension method."
   ]
  },
  {
   "cell_type": "code",
   "execution_count": 6,
   "id": "a903d797",
   "metadata": {},
   "outputs": [
    {
     "name": "stdout",
     "output_type": "stream",
     "text": [
      "['evaluate', 'evaluating', 'evaluate', 'evaluation']:    ['evalu', 'evalu', 'evalu', 'evalu']\n",
      "\n",
      "['plays', 'played', 'playing', 'play']:                   ['play', 'play', 'play', 'play']\n",
      "\n",
      "['drive', 'drives', 'driving']:                          ['drive', 'drive', 'drive']\n",
      "\n"
     ]
    }
   ],
   "source": [
    "# Examples of words with same stem\n",
    "preview_list1 = ['evaluate', 'evaluating', 'evaluate', 'evaluation']\n",
    "preview_list2 = ['plays', 'played', 'playing', 'play']\n",
    "preview_list3 = ['drive', 'drives', 'driving']\n",
    "\n",
    "# calling portstemmer function on each list of words\n",
    "\n",
    "stem_list1 = [ps.stem(word) for word in preview_list1]\n",
    "stem_list2 = [ps.stem(word) for word in preview_list2]\n",
    "stem_list3 = [ps.stem(word) for word in preview_list3]\n",
    "\n",
    "# outputting the list of words with their stem\n",
    "print(str(preview_list1) + ':    ' + str(stem_list1))\n",
    "print('')\n",
    "print(str(preview_list2) + ':                   ' + str(stem_list2))\n",
    "print('')\n",
    "print(str(preview_list3) + ':                          ' + str(stem_list3))\n",
    "print('')"
   ]
  },
  {
   "cell_type": "code",
   "execution_count": 7,
   "id": "97960920",
   "metadata": {},
   "outputs": [
    {
     "data": {
      "text/plain": [
       "'playsplayedplayingplay'"
      ]
     },
     "execution_count": 7,
     "metadata": {},
     "output_type": "execute_result"
    }
   ],
   "source": [
    "preview_list1 = ['evaluate', 'evaluating', 'evaluate', 'evaluation']\n",
    "preview_list2 = ['plays', 'played', 'playing', 'play']\n",
    "preview_list3 = ['drive', 'drives', 'driving']\n",
    "\n",
    "preview_list2[0] + preview_list2[1] + preview_list2[2] + preview_list2[3]"
   ]
  },
  {
   "cell_type": "code",
   "execution_count": 8,
   "id": "d69aba71",
   "metadata": {},
   "outputs": [],
   "source": [
    "''' takes time to run'''\n",
    "\n",
    "# storing processed review in a list\n",
    "review_list = []\n",
    "\n",
    "# iterating over each review \n",
    "for i in range(datafile.shape[0]):\n",
    "    # selecting review from review column\n",
    "    review = datafile.iloc[i, 1]\n",
    "    # performing cleaning on review using clean function\n",
    "    cleaned_review = data_clean(review)\n",
    "    # storing clean review to the list\n",
    "    review_list.append(cleaned_review)"
   ]
  },
  {
   "cell_type": "markdown",
   "id": "49d437cc",
   "metadata": {},
   "source": [
    "## Bag of Words Technique\n",
    "\n",
    "In laymen terms, BOW model converts text in the form of numbers which can then be used in an algorithm for analysis. Specifically, BOW model is used for feature extraction in text data. It returns a vector with all the words and the number of times each word is repeated. It is known as BOW because it is only concerned with the number of times a word is repeated rather than the order of words.\n",
    "\n",
    "The below cell demonstrates the implementation of *bag of words* technique by creating a vector of first 5 reviews of datafile. Cleaning function is called on each to review to process it. Vectors of tokens are generated for each word using `CountVectorizer` of `sklearn`. The result is then converted into a dataframe. The ouput shows the different words in the review and the number of times, they have occured in each review."
   ]
  },
  {
   "cell_type": "code",
   "execution_count": 9,
   "id": "e8f4609e",
   "metadata": {},
   "outputs": [
    {
     "name": "stdout",
     "output_type": "stream",
     "text": [
      "\n",
      "\n",
      "Count Vector for Review 1:\n"
     ]
    },
    {
     "data": {
      "text/html": [
       "<div>\n",
       "<style scoped>\n",
       "    .dataframe tbody tr th:only-of-type {\n",
       "        vertical-align: middle;\n",
       "    }\n",
       "\n",
       "    .dataframe tbody tr th {\n",
       "        vertical-align: top;\n",
       "    }\n",
       "\n",
       "    .dataframe thead th {\n",
       "        text-align: right;\n",
       "    }\n",
       "</style>\n",
       "<table border=\"1\" class=\"dataframe\">\n",
       "  <thead>\n",
       "    <tr style=\"text-align: right;\">\n",
       "      <th></th>\n",
       "      <th>1992</th>\n",
       "      <th>1999</th>\n",
       "      <th>anyway</th>\n",
       "      <th>back</th>\n",
       "      <th>batteri</th>\n",
       "      <th>bought</th>\n",
       "      <th>buy</th>\n",
       "      <th>car</th>\n",
       "      <th>card</th>\n",
       "      <th>care</th>\n",
       "      <th>...</th>\n",
       "      <th>take</th>\n",
       "      <th>tank</th>\n",
       "      <th>tauru</th>\n",
       "      <th>thee</th>\n",
       "      <th>think</th>\n",
       "      <th>tire</th>\n",
       "      <th>tri</th>\n",
       "      <th>version</th>\n",
       "      <th>way</th>\n",
       "      <th>would</th>\n",
       "    </tr>\n",
       "  </thead>\n",
       "  <tbody>\n",
       "    <tr>\n",
       "      <th>0</th>\n",
       "      <td>3</td>\n",
       "      <td>1</td>\n",
       "      <td>1</td>\n",
       "      <td>1</td>\n",
       "      <td>1</td>\n",
       "      <td>2</td>\n",
       "      <td>1</td>\n",
       "      <td>1</td>\n",
       "      <td>1</td>\n",
       "      <td>1</td>\n",
       "      <td>...</td>\n",
       "      <td>1</td>\n",
       "      <td>1</td>\n",
       "      <td>3</td>\n",
       "      <td>1</td>\n",
       "      <td>1</td>\n",
       "      <td>1</td>\n",
       "      <td>1</td>\n",
       "      <td>1</td>\n",
       "      <td>1</td>\n",
       "      <td>2</td>\n",
       "    </tr>\n",
       "  </tbody>\n",
       "</table>\n",
       "<p>1 rows × 61 columns</p>\n",
       "</div>"
      ],
      "text/plain": [
       "   1992  1999  anyway  back  batteri  bought  buy  car  card  care  ...  take  \\\n",
       "0     3     1       1     1        1       2    1    1     1     1  ...     1   \n",
       "\n",
       "   tank  tauru  thee  think  tire  tri  version  way  would  \n",
       "0     1      3     1      1     1    1        1    1      2  \n",
       "\n",
       "[1 rows x 61 columns]"
      ]
     },
     "metadata": {},
     "output_type": "display_data"
    },
    {
     "name": "stdout",
     "output_type": "stream",
     "text": [
      "\n",
      "\n",
      "Count Vector for Review 2:\n"
     ]
    },
    {
     "data": {
      "text/html": [
       "<div>\n",
       "<style scoped>\n",
       "    .dataframe tbody tr th:only-of-type {\n",
       "        vertical-align: middle;\n",
       "    }\n",
       "\n",
       "    .dataframe tbody tr th {\n",
       "        vertical-align: top;\n",
       "    }\n",
       "\n",
       "    .dataframe thead th {\n",
       "        text-align: right;\n",
       "    }\n",
       "</style>\n",
       "<table border=\"1\" class=\"dataframe\">\n",
       "  <thead>\n",
       "    <tr style=\"text-align: right;\">\n",
       "      <th></th>\n",
       "      <th>115</th>\n",
       "      <th>1999</th>\n",
       "      <th>allow</th>\n",
       "      <th>anoth</th>\n",
       "      <th>anyon</th>\n",
       "      <th>area</th>\n",
       "      <th>basi</th>\n",
       "      <th>better</th>\n",
       "      <th>breez</th>\n",
       "      <th>busi</th>\n",
       "      <th>...</th>\n",
       "      <th>uncomfort</th>\n",
       "      <th>unnecessarili</th>\n",
       "      <th>us</th>\n",
       "      <th>usag</th>\n",
       "      <th>usual</th>\n",
       "      <th>weigh</th>\n",
       "      <th>well</th>\n",
       "      <th>went</th>\n",
       "      <th>work</th>\n",
       "      <th>would</th>\n",
       "    </tr>\n",
       "  </thead>\n",
       "  <tbody>\n",
       "    <tr>\n",
       "      <th>0</th>\n",
       "      <td>1</td>\n",
       "      <td>2</td>\n",
       "      <td>1</td>\n",
       "      <td>1</td>\n",
       "      <td>1</td>\n",
       "      <td>1</td>\n",
       "      <td>1</td>\n",
       "      <td>1</td>\n",
       "      <td>1</td>\n",
       "      <td>2</td>\n",
       "      <td>...</td>\n",
       "      <td>4</td>\n",
       "      <td>1</td>\n",
       "      <td>3</td>\n",
       "      <td>1</td>\n",
       "      <td>1</td>\n",
       "      <td>1</td>\n",
       "      <td>1</td>\n",
       "      <td>1</td>\n",
       "      <td>1</td>\n",
       "      <td>2</td>\n",
       "    </tr>\n",
       "  </tbody>\n",
       "</table>\n",
       "<p>1 rows × 91 columns</p>\n",
       "</div>"
      ],
      "text/plain": [
       "   115  1999  allow  anoth  anyon  area  basi  better  breez  busi  ...  \\\n",
       "0    1     2      1      1      1     1     1       1      1     2  ...   \n",
       "\n",
       "   uncomfort  unnecessarili  us  usag  usual  weigh  well  went  work  would  \n",
       "0          4              1   3     1      1      1     1     1     1      2  \n",
       "\n",
       "[1 rows x 91 columns]"
      ]
     },
     "metadata": {},
     "output_type": "display_data"
    },
    {
     "name": "stdout",
     "output_type": "stream",
     "text": [
      "\n",
      "\n",
      "Count Vector for Review 3:\n"
     ]
    },
    {
     "data": {
      "text/html": [
       "<div>\n",
       "<style scoped>\n",
       "    .dataframe tbody tr th:only-of-type {\n",
       "        vertical-align: middle;\n",
       "    }\n",
       "\n",
       "    .dataframe tbody tr th {\n",
       "        vertical-align: top;\n",
       "    }\n",
       "\n",
       "    .dataframe thead th {\n",
       "        text-align: right;\n",
       "    }\n",
       "</style>\n",
       "<table border=\"1\" class=\"dataframe\">\n",
       "  <thead>\n",
       "    <tr style=\"text-align: right;\">\n",
       "      <th></th>\n",
       "      <th>000</th>\n",
       "      <th>10mpg</th>\n",
       "      <th>1700</th>\n",
       "      <th>1990</th>\n",
       "      <th>200</th>\n",
       "      <th>70</th>\n",
       "      <th>98</th>\n",
       "      <th>addit</th>\n",
       "      <th>air</th>\n",
       "      <th>also</th>\n",
       "      <th>...</th>\n",
       "      <th>valv</th>\n",
       "      <th>vehicl</th>\n",
       "      <th>vibrat</th>\n",
       "      <th>week</th>\n",
       "      <th>went</th>\n",
       "      <th>within</th>\n",
       "      <th>work</th>\n",
       "      <th>wrong</th>\n",
       "      <th>yard</th>\n",
       "      <th>year</th>\n",
       "    </tr>\n",
       "  </thead>\n",
       "  <tbody>\n",
       "    <tr>\n",
       "      <th>0</th>\n",
       "      <td>2</td>\n",
       "      <td>1</td>\n",
       "      <td>1</td>\n",
       "      <td>1</td>\n",
       "      <td>1</td>\n",
       "      <td>1</td>\n",
       "      <td>1</td>\n",
       "      <td>1</td>\n",
       "      <td>3</td>\n",
       "      <td>1</td>\n",
       "      <td>...</td>\n",
       "      <td>1</td>\n",
       "      <td>4</td>\n",
       "      <td>1</td>\n",
       "      <td>5</td>\n",
       "      <td>2</td>\n",
       "      <td>3</td>\n",
       "      <td>1</td>\n",
       "      <td>1</td>\n",
       "      <td>1</td>\n",
       "      <td>1</td>\n",
       "    </tr>\n",
       "  </tbody>\n",
       "</table>\n",
       "<p>1 rows × 128 columns</p>\n",
       "</div>"
      ],
      "text/plain": [
       "   000  10mpg  1700  1990  200  70  98  addit  air  also  ...  valv  vehicl  \\\n",
       "0    2      1     1     1    1   1   1      1    3     1  ...     1       4   \n",
       "\n",
       "   vibrat  week  went  within  work  wrong  yard  year  \n",
       "0       1     5     2       3     1      1     1     1  \n",
       "\n",
       "[1 rows x 128 columns]"
      ]
     },
     "metadata": {},
     "output_type": "display_data"
    },
    {
     "name": "stdout",
     "output_type": "stream",
     "text": [
      "\n",
      "\n",
      "Count Vector for Review 4:\n"
     ]
    },
    {
     "data": {
      "text/html": [
       "<div>\n",
       "<style scoped>\n",
       "    .dataframe tbody tr th:only-of-type {\n",
       "        vertical-align: middle;\n",
       "    }\n",
       "\n",
       "    .dataframe tbody tr th {\n",
       "        vertical-align: top;\n",
       "    }\n",
       "\n",
       "    .dataframe thead th {\n",
       "        text-align: right;\n",
       "    }\n",
       "</style>\n",
       "<table border=\"1\" class=\"dataframe\">\n",
       "  <thead>\n",
       "    <tr style=\"text-align: right;\">\n",
       "      <th></th>\n",
       "      <th>000</th>\n",
       "      <th>10</th>\n",
       "      <th>15</th>\n",
       "      <th>17</th>\n",
       "      <th>2000</th>\n",
       "      <th>2003</th>\n",
       "      <th>30k</th>\n",
       "      <th>36k</th>\n",
       "      <th>400</th>\n",
       "      <th>4l</th>\n",
       "      <th>...</th>\n",
       "      <th>upset</th>\n",
       "      <th>use</th>\n",
       "      <th>valu</th>\n",
       "      <th>vehicl</th>\n",
       "      <th>version</th>\n",
       "      <th>warranti</th>\n",
       "      <th>weight</th>\n",
       "      <th>welcom</th>\n",
       "      <th>xlt</th>\n",
       "      <th>yet</th>\n",
       "    </tr>\n",
       "  </thead>\n",
       "  <tbody>\n",
       "    <tr>\n",
       "      <th>0</th>\n",
       "      <td>1</td>\n",
       "      <td>1</td>\n",
       "      <td>1</td>\n",
       "      <td>1</td>\n",
       "      <td>1</td>\n",
       "      <td>1</td>\n",
       "      <td>1</td>\n",
       "      <td>1</td>\n",
       "      <td>1</td>\n",
       "      <td>1</td>\n",
       "      <td>...</td>\n",
       "      <td>1</td>\n",
       "      <td>1</td>\n",
       "      <td>1</td>\n",
       "      <td>5</td>\n",
       "      <td>1</td>\n",
       "      <td>8</td>\n",
       "      <td>1</td>\n",
       "      <td>1</td>\n",
       "      <td>1</td>\n",
       "      <td>1</td>\n",
       "    </tr>\n",
       "  </tbody>\n",
       "</table>\n",
       "<p>1 rows × 231 columns</p>\n",
       "</div>"
      ],
      "text/plain": [
       "   000  10  15  17  2000  2003  30k  36k  400  4l  ...  upset  use  valu  \\\n",
       "0    1   1   1   1     1     1    1    1    1   1  ...      1    1     1   \n",
       "\n",
       "   vehicl  version  warranti  weight  welcom  xlt  yet  \n",
       "0       5        1         8       1       1    1    1  \n",
       "\n",
       "[1 rows x 231 columns]"
      ]
     },
     "metadata": {},
     "output_type": "display_data"
    },
    {
     "name": "stdout",
     "output_type": "stream",
     "text": [
      "\n",
      "\n",
      "Count Vector for Review 5:\n"
     ]
    },
    {
     "data": {
      "text/html": [
       "<div>\n",
       "<style scoped>\n",
       "    .dataframe tbody tr th:only-of-type {\n",
       "        vertical-align: middle;\n",
       "    }\n",
       "\n",
       "    .dataframe tbody tr th {\n",
       "        vertical-align: top;\n",
       "    }\n",
       "\n",
       "    .dataframe thead th {\n",
       "        text-align: right;\n",
       "    }\n",
       "</style>\n",
       "<table border=\"1\" class=\"dataframe\">\n",
       "  <thead>\n",
       "    <tr style=\"text-align: right;\">\n",
       "      <th></th>\n",
       "      <th>200sx</th>\n",
       "      <th>abl</th>\n",
       "      <th>acceler</th>\n",
       "      <th>ad</th>\n",
       "      <th>addit</th>\n",
       "      <th>almost</th>\n",
       "      <th>alot</th>\n",
       "      <th>alway</th>\n",
       "      <th>anyon</th>\n",
       "      <th>avoid</th>\n",
       "      <th>...</th>\n",
       "      <th>trade</th>\n",
       "      <th>transport</th>\n",
       "      <th>van</th>\n",
       "      <th>vehicl</th>\n",
       "      <th>way</th>\n",
       "      <th>well</th>\n",
       "      <th>windstar</th>\n",
       "      <th>worri</th>\n",
       "      <th>would</th>\n",
       "      <th>yet</th>\n",
       "    </tr>\n",
       "  </thead>\n",
       "  <tbody>\n",
       "    <tr>\n",
       "      <th>0</th>\n",
       "      <td>1</td>\n",
       "      <td>1</td>\n",
       "      <td>1</td>\n",
       "      <td>1</td>\n",
       "      <td>1</td>\n",
       "      <td>1</td>\n",
       "      <td>2</td>\n",
       "      <td>1</td>\n",
       "      <td>1</td>\n",
       "      <td>1</td>\n",
       "      <td>...</td>\n",
       "      <td>1</td>\n",
       "      <td>1</td>\n",
       "      <td>4</td>\n",
       "      <td>4</td>\n",
       "      <td>3</td>\n",
       "      <td>2</td>\n",
       "      <td>4</td>\n",
       "      <td>1</td>\n",
       "      <td>1</td>\n",
       "      <td>1</td>\n",
       "    </tr>\n",
       "  </tbody>\n",
       "</table>\n",
       "<p>1 rows × 105 columns</p>\n",
       "</div>"
      ],
      "text/plain": [
       "   200sx  abl  acceler  ad  addit  almost  alot  alway  anyon  avoid  ...  \\\n",
       "0      1    1        1   1      1       1     2      1      1      1  ...   \n",
       "\n",
       "   trade  transport  van  vehicl  way  well  windstar  worri  would  yet  \n",
       "0      1          1    4       4    3     2         4      1      1    1  \n",
       "\n",
       "[1 rows x 105 columns]"
      ]
     },
     "metadata": {},
     "output_type": "display_data"
    }
   ],
   "source": [
    "# iterating over the first five reviews of datafile\n",
    "\n",
    "for i in range(5):\n",
    "    review = datafile['Review'][i]\n",
    "    # calling data_clean function\n",
    "    cleaned_review = data_clean(review)\n",
    "    # creating vector of each token\n",
    "    vect = CountVectorizer()\n",
    "    vector = vect.fit_transform([cleaned_review])\n",
    "    # converting vector in dataframe\n",
    "    DF = pd.DataFrame(vector.A, columns = vect.get_feature_names())\n",
    "    # ouputting vector dataframe for each review\n",
    "    print('\\n')\n",
    "    print('Count Vector for Review ' + str(i+1) + ':')\n",
    "    display(DF)"
   ]
  },
  {
   "cell_type": "markdown",
   "id": "f621fbbc",
   "metadata": {},
   "source": [
    "## Defining Function for displaying confusion matrix\n",
    "\n",
    "A confusion matrix is a performance measurement technique for Machine learning classification. It is a kind of table which helps you to the know the performance of the classification model on a set of test data for that the true values are known. The confusion matrix function of `sklearn` has been used for this task. It generates a 2x2 matrix of numbers. In order to give more meaningful and insightful results, I used `seaborn` to display a more visual confusion matrix with annotations indicating the proportion of *True Negatives, False Positives, False Negatives and True Positives."
   ]
  },
  {
   "cell_type": "code",
   "execution_count": 10,
   "id": "b0426d60",
   "metadata": {},
   "outputs": [],
   "source": [
    "def result(values):\n",
    "    \n",
    "    # matrix labels\n",
    "    types = ['True Neg', 'False Pos', 'False Neg', 'True Pos']\n",
    "    # count of each type\n",
    "    type_count = [\"{0:0.0f}\".format(value) for value in values.flatten()]\n",
    "    # percentage of each type\n",
    "    type_percent = [\"{0:.2%}\".format(value) for value in (values.flatten() / np.sum(values))]\n",
    "    \n",
    "    # converting all values to list\n",
    "    label = [f\"{v1}\\n{v2}\\n{v3}\" for v1, v2, v3 in zip (types, type_count, type_percent)]\n",
    "    label = np.asarray(label).reshape(2,2)\n",
    "    \n",
    "    # using seaborn to create a heatmap\n",
    "    chart = sns.heatmap(values, annot = label, fmt = '', cmap = 'PiYG')\n",
    "    \n",
    "    return chart"
   ]
  },
  {
   "cell_type": "markdown",
   "id": "d67b1cab",
   "metadata": {},
   "source": [
    "## Splitting of Data\n",
    "\n",
    "We will now split the data for training and testing to check how well our model has performed.  We will use: `scikit_learn’s` `train_test_split()` for splitting the text_count. The data has been split in the the ratio of 80/20, i.e, 80% of training data and 20% of testing data. The trainig set contains 1106 reviews while the classifier has been tested with 276 reviews. Therefore, `test_size` has been set to 276 to get the required data split. The number of review in the training set and testing set has been confirmed by printing there values. "
   ]
  },
  {
   "cell_type": "code",
   "execution_count": 11,
   "id": "710b8df6",
   "metadata": {},
   "outputs": [
    {
     "name": "stdout",
     "output_type": "stream",
     "text": [
      "Training Size: 1106.\n",
      "Testing Size: 276.\n"
     ]
    }
   ],
   "source": [
    "# creating vector, by defualt unigram\n",
    "CV = CountVectorizer()\n",
    "\n",
    "X = CV.fit_transform(review_list).toarray()\n",
    "Y = datafile.iloc[:, 0]\n",
    "\n",
    "# splitting into training and testing\n",
    "X_train, X_test, Y_train, Y_test = train_test_split(X, Y, test_size = 276, random_state = 1400)\n",
    "\n",
    "# Outputting training and testing size\n",
    "print('Training Size: ' + str(len(X_train)) + '.')\n",
    "print('Testing Size: ' + str(len(X_test)) + '.')"
   ]
  },
  {
   "cell_type": "markdown",
   "id": "6ff2db84",
   "metadata": {},
   "source": [
    "## Defining the Model\n",
    "\n",
    "We will be using **Naive Bayes Classifier** for defining the model. Specifically, we will use the `MultinomialNB()` from `sklearn`. \n",
    "\n",
    "### Naive Bayes Model\n",
    "\n",
    "This model applies Bayes theorem with a Naive assumption of no relationship between different features. According to Bayes theorem:\n",
    "\n",
    "                                   Posterior = likelihood * proposition/evidence\n",
    "                                   \n",
    "                                                           or\n",
    "                                                           \n",
    "                                            P(A|B) = P(B|A) * P(A)/P(B)\n",
    "                                            \n",
    "For an input with several variables:\n",
    "\n",
    "                              P(y|x1, x2, … xn) = P(x1, x2, … xn|y)* P(y)/P(x1,x2, …xn)\n",
    "                              \n",
    "with Naive Bayes we assume x1, x2 … xn are independent of each other, i.e:\n",
    "\n",
    "                                     P(x1, x2, … xn|y) = P(x1|y) * P(x2|y) … * P(xn|y)\n",
    "                                     \n",
    "The assumption in distribution of P(xi|y) give rise to different NBM. For multinomial distribusion will give Multinomial Naive Bayes (MNB). "
   ]
  },
  {
   "cell_type": "markdown",
   "id": "8ca7553c",
   "metadata": {},
   "source": [
    "## Compliling the Model\n",
    "\n",
    "For compling the model `MultinomialNB()` from sklearn has been called."
   ]
  },
  {
   "cell_type": "code",
   "execution_count": 12,
   "id": "65991f1f",
   "metadata": {},
   "outputs": [],
   "source": [
    "#using Multinomial Naive Bayes classifier on training data from scikit-learn\n",
    "MNB = MultinomialNB()"
   ]
  },
  {
   "cell_type": "markdown",
   "id": "8a5d3fbf",
   "metadata": {},
   "source": [
    "## Fitting the Model\n",
    "\n",
    "In fitting the model, the classifier is fitted with the using training set. `X_train` and `Y_train` is what the classifier is going to be trained on. To show that only the training data has been used to the point where the model has been trained, the length of both `X_train` and `Y_train` is shown using print statements."
   ]
  },
  {
   "cell_type": "code",
   "execution_count": 13,
   "id": "42100321",
   "metadata": {},
   "outputs": [
    {
     "name": "stdout",
     "output_type": "stream",
     "text": [
      "X_train size: 1106.\n",
      "Y_train size: 1106.\n"
     ]
    }
   ],
   "source": [
    "MNB.fit(X_train, Y_train)\n",
    "\n",
    "print('X_train size: ' + str(len(X_train)) + '.')\n",
    "print('Y_train size: ' + str(len(Y_train)) + '.')"
   ]
  },
  {
   "cell_type": "markdown",
   "id": "26f64466",
   "metadata": {},
   "source": [
    "## Evaluating the model\n",
    "\n",
    "Here we quantify the quality of our model. We use `confusion_matrix`, `accuracy_score` module from the sklearn library to evaluate the predictions. The classifier is then run on the test data. The accuracy of the classifier on the test data can be found using the `accuracy_score` method. The accuracy is given as a decimal between 0 and 1. This was multiplied to give a percentage accuracy."
   ]
  },
  {
   "cell_type": "code",
   "execution_count": 14,
   "id": "b5d78a25",
   "metadata": {},
   "outputs": [
    {
     "name": "stdout",
     "output_type": "stream",
     "text": [
      "Task 1 classifier Accuracy Score of Training set: 91.95% \n",
      "Task 1 classifier Accuracy Score of Testing set: 75.72% \n"
     ]
    }
   ],
   "source": [
    "# implementing classifier on test data\n",
    "Y_pred = MNB.predict(X_test)\n",
    "\n",
    "CFM = confusion_matrix(Y_test, Y_pred)\n",
    "accuracy_test = accuracy_score(Y_test, Y_pred)\n",
    "\n",
    "# ouputting accuracy of train data.\n",
    "accuracy_train = MNB.score(X_train, Y_train)\n",
    "print('Task 1 classifier Accuracy Score of Training set: %.2f%% ' % (accuracy_train * 100.0))\n",
    "\n",
    "# classifier accuracy score ouput\n",
    "print('Task 1 classifier Accuracy Score of Testing set: %.2f%% ' % (accuracy_test * 100.0))"
   ]
  },
  {
   "cell_type": "markdown",
   "id": "ed458241",
   "metadata": {},
   "source": [
    "## Displaying Confusion Matrix\n",
    "\n",
    "The display_matrix function has been called to ouput the confusion matrix. It gives an idea about the percentages of True Neg, False Pos, False Neg, and True Pos. "
   ]
  },
  {
   "cell_type": "code",
   "execution_count": 15,
   "id": "7997c7b7",
   "metadata": {},
   "outputs": [
    {
     "name": "stdout",
     "output_type": "stream",
     "text": [
      "Confusion Matrix for Classifier 1:\n"
     ]
    },
    {
     "data": {
      "text/plain": [
       "<AxesSubplot:>"
      ]
     },
     "execution_count": 15,
     "metadata": {},
     "output_type": "execute_result"
    },
    {
     "data": {
      "image/png": "[encoded data removed]",
      "text/plain": [
       "<Figure size 432x288 with 2 Axes>"
      ]
     },
     "metadata": {
      "needs_background": "light"
     },
     "output_type": "display_data"
    }
   ],
   "source": [
    "# Confusion Matrix Ouput\n",
    "print('Confusion Matrix for Classifier 1:')\n",
    "result(CFM)"
   ]
  },
  {
   "cell_type": "markdown",
   "id": "119a0b9e",
   "metadata": {},
   "source": [
    "# Task 2\n",
    "\n",
    "In task 2, the goal is to identify and research a way to improve on the solution to Task 1, that can do better at classifying the sentiment of the reviews. \n",
    "\n",
    "We may either:\n",
    "\n",
    "1. Identify an alternative classification algorithm, or\n",
    "2. Apply modifications to the Naïve Bayes implementation, for example trying different classification of different size n-grams (multi-word phrases). Implement this improvement and compare the results to your initial Naïve Bayes classifier.\n",
    "\n",
    "In Task 1, the classifier used was `MultinomialNB()` and ngrams were of type **unigram**. The **unigram** involves looking at the words individually. The problem with that if if there is a statement \"I am not depressed\", and the classifier is trained on unigram, then it will state that the sentiment is negative because it is looking at the words individually. It considers the word \"depressed\" and would not consider \"not depressed\" as a sentiment. This completely changes the sentiment of the reviews. \n",
    "This is the reason, I will try to train my classifier on different n-gram like **bigram** to have a better look at the situtaion like this. I would also be trying to implement a different Naive Bayes classifier than `MultinomalNB()`. I will be implementing `ComplementNB()` to have a look how the accuracy changes by using a different type of Naive Bayes classifier.\n",
    "I will be showing here only those method which resulted in the increase of the performance. But to have a look at different methods other naive bayes classifier to complete this task, We can also refer this article on sentiment analysis[1].\n",
    "\n",
    "### References:\n",
    "\n",
    "[1] Sharma, M: Sentiment Analysis: An Introduction to Naive Bayes Algorithm. Article, Towards Data Science(2020).\n",
    "\n",
    "https://towardsdatascience.com/sentiment-analysis-introduction-to-naive-bayes-algorithm-96831d77ac91"
   ]
  },
  {
   "cell_type": "markdown",
   "id": "124353ad",
   "metadata": {},
   "source": [
    "## Trying different n_gram "
   ]
  },
  {
   "cell_type": "markdown",
   "id": "a76bfc5d",
   "metadata": {},
   "source": [
    "As discussed above, using different ngram may result in improvement of the accuracy of the classifier as they considers multiple words at once. Here I have demonstrated the use of **bigram** with `MultinomialNB()` which resulted in the increase of the accuracy of the classifier. For my case, it would be the issue of reviews that might have had a negation word before a positive word would have been classified incorrectly as positive instead of negative and vice versa. Using bigrams along with unigrams would prevent this issue and the expected result would be an increase in the accuracy of the classifier and a reduction in the number False Negatives and False Positives in the confusion matrix. While using bi-gram the improvement can be small but even a non significant improvement over task 1 would be considered [2].\n",
    "\n",
    "### References:\n",
    "\n",
    "[1] Bekkerman, R., Allan, J.: Using bigrams in text categorization. Technical report, University of Massachusetts (2003) https://ciir-publications.cs.umass.edu/getpdf.php?id=552\n",
    "\n",
    "\n"
   ]
  },
  {
   "cell_type": "markdown",
   "id": "44430dfb",
   "metadata": {},
   "source": [
    "### Bi-gram"
   ]
  },
  {
   "cell_type": "code",
   "execution_count": 16,
   "id": "1de7ec87",
   "metadata": {},
   "outputs": [
    {
     "name": "stdout",
     "output_type": "stream",
     "text": [
      "Task 2 classifier Accuracy Score of Training set: 100.00% \n",
      "Task 2 classifier Accuracy Score of Testing set: 79.35% \n",
      "\n",
      "Confusion Matrix for Classifier 2:\n"
     ]
    },
    {
     "data": {
      "text/plain": [
       "<AxesSubplot:>"
      ]
     },
     "execution_count": 16,
     "metadata": {},
     "output_type": "execute_result"
    },
    {
     "data": {
      "image/png": "[encoded data removed]",
      "text/plain": [
       "<Figure size 432x288 with 2 Axes>"
      ]
     },
     "metadata": {
      "needs_background": "light"
     },
     "output_type": "display_data"
    }
   ],
   "source": [
    "\"\"\" By defualt the CountVectorizer uses ngram. To train our classifier on bigram we can change the ngrame range to (2,2),\n",
    "     while (1,1) specifies to ngram. We can also play with different range of ngram like (1,2) or (2,3)\"\"\"\n",
    "\n",
    "CV2 = CountVectorizer(ngram_range=(2,2))\n",
    "\n",
    "X2 = CV2.fit_transform(review_list).toarray()\n",
    "Y2 = datafile.iloc[:, 0]\n",
    "\n",
    "# splitting data in test and train using sklearn\n",
    "X2_train, X2_test, Y2_train, Y2_test = train_test_split(X2, Y2, test_size = 276, random_state = 1400)\n",
    "\n",
    "# implementing the multinomialNB classifier\n",
    "MNB2 = MultinomialNB()\n",
    "MNB2.fit(X2_train, Y2_train)\n",
    "\n",
    "# test pred\n",
    "Y_pred2 = MNB2.predict(X2_test)\n",
    "\n",
    "# Printing metrics \n",
    "CFM2 = confusion_matrix(Y2_test, Y_pred2)\n",
    "accuracy_test2 = accuracy_score(Y2_test, Y_pred2)\n",
    "\n",
    "# train pred\n",
    "accuracy_train2 = MNB2.score(X2_train, Y2_train)\n",
    "print('Task 2 classifier Accuracy Score of Training set: %.2f%% ' % (accuracy_train2 * 100.0))\n",
    "print('Task 2 classifier Accuracy Score of Testing set: %.2f%% ' % (accuracy_test2 * 100.0))\n",
    "print('')\n",
    "\n",
    "# Outputting matrix heatmap\n",
    "print('Confusion Matrix for Classifier 2:')\n",
    "result(CFM2)"
   ]
  },
  {
   "cell_type": "markdown",
   "id": "73c931d7",
   "metadata": {},
   "source": [
    "## Trying Different Naive Bayes\n",
    "\n",
    "Another approach of this task would be to try different Naive Bayes Classifier like `GaussianNB()` or `ComplementNB()`. Using `ComplementNB()` demonstrated improved result. This model was created specifically to deal with the case where the training data is biased towards one class[3]. Although, It showed no or very little improvements (depends on random state) with the current dataset and I believe it is worth trying with different datasets.\n",
    "\n",
    "### References:\n",
    "\n",
    "[2] Science, D: How To Predict Natural Language Sentiment Using A Naive Bayes Classifier. Article, Towards Data Science (2021).\n",
    "https://medium.com/the-data-science-publication/how-to-predict-natural-language-sentiment-using-naive-bayes-classifier-6ab6eb28fd6d"
   ]
  },
  {
   "cell_type": "markdown",
   "id": "e5bc3e6b",
   "metadata": {},
   "source": [
    "### Complement NB"
   ]
  },
  {
   "cell_type": "code",
   "execution_count": 17,
   "id": "50fac58e",
   "metadata": {},
   "outputs": [
    {
     "name": "stdout",
     "output_type": "stream",
     "text": [
      "Task 2 classifier Accuracy Score of Training set: 91.95% \n",
      "Task 2 classifier Accuracy Score of Testing set: 75.72% \n",
      "\n",
      "Confusion Matrix for Classifier 2:\n"
     ]
    },
    {
     "data": {
      "text/plain": [
       "<AxesSubplot:>"
      ]
     },
     "execution_count": 17,
     "metadata": {},
     "output_type": "execute_result"
    },
    {
     "data": {
      "image/png": "[encoded data removed]",
      "text/plain": [
       "<Figure size 432x288 with 2 Axes>"
      ]
     },
     "metadata": {
      "needs_background": "light"
     },
     "output_type": "display_data"
    }
   ],
   "source": [
    "CV3 = CountVectorizer()\n",
    "\n",
    "X3 = CV3.fit_transform(review_list).toarray()\n",
    "Y3 = datafile.iloc[:, 0]\n",
    "\n",
    "# splitting data in test and train using sklearn\n",
    "X3_train, X3_test, Y3_train, Y3_test = train_test_split(X3, Y3, test_size = 276, random_state = 1400)\n",
    "\n",
    "# implementing complementNB\n",
    "from sklearn.naive_bayes import ComplementNB\n",
    "CNB = ComplementNB()\n",
    "CNB.fit(X3_train, Y3_train)\n",
    "\n",
    "# test pred\n",
    "Y_pred3 = CNB.predict(X3_test)\n",
    "\n",
    "# Printing metrics \n",
    "CFM3 = confusion_matrix(Y3_test, Y_pred3)\n",
    "accuracy_test3 = accuracy_score(Y3_test, Y_pred3)\n",
    "\n",
    "# train pred\n",
    "accuracy_train3 = CNB.score(X3_train, Y3_train)\n",
    "print('Task 2 classifier Accuracy Score of Training set: %.2f%% ' % (accuracy_train3 * 100.0))\n",
    "print('Task 2 classifier Accuracy Score of Testing set: %.2f%% ' % (accuracy_test3 * 100.0))\n",
    "print('')\n",
    "\n",
    "# Outputting matrix heatmap\n",
    "print('Confusion Matrix for Classifier 2:')\n",
    "result(CFM3)"
   ]
  },
  {
   "cell_type": "markdown",
   "id": "02a606f7",
   "metadata": {},
   "source": [
    "## Comparision of Task 2 vs Task 1\n",
    "\n",
    "The approach used in task 2 demonstrated very little improvement than task 1. This is evident by an increase in the accuracy of the classifier by around 4% when using **bigram** while little to no improvements while using `ComplementNB()`. In the **bigram** approach, the classifier predicted all the sentiments correctly on the training data. While in the unigram approach of task 1, it showed only 91.95% of accurate predictions on the training data. These percentages should be noted for the random state = 1400. It is bound to change for different values of random state. The `ComplementNB()` predicted similar accuracy as that of `MultinomialNB()` but if the random state of the classifier is change from 1400 to say 1420, it can show a little change in the accuracy of the classifier. It can be lower or more than the `MultinomialNB()` and will depend on the value of random state.\n",
    "\n",
    "It can be seen in the confusion matrices of unigram and bigram approaches, that the number of False Negatives decreased  from 33 to 12 while there was a little increase in False Positives from 34 to 45. Overall the the number of True Positives and True Negatives Increased and we got a better accuracy for test set from 75.72% to 79.35%. The reason this improvement can be seen was most likely due to the issue that was stated earlier not occuring (where a positive word could have a negative word in front changing the meaning). A couple of the reviews that were flagged as positive or negative could've had this sort of language structure in them and hence they were able to be accurately identified with the improved solution.\n",
    "\n",
    "The distinction in recording for False Positives, False Negatives and exactness isn't sufficiently high to be named as huge. This improvement must be seen for this specific random_state. Assuming this was run with an alternate random_state for the preparation and testing split, various outcomes should have been visible and a reduction in execution isn't remarkable. The exactness and disarray lattice will be shift for each random_state that is picked. Anyway for this specific random state and split, it apparently had an improvement. The little expansion in execution shows that utilizing unigrams is sufficient at fitting a classifier to distinguish the right feeling. It possibly bombs when a particular construction of sentence is experienced where an invalidation word isn't sufficiently able to \"counter\" a profoundly certain feeling word that follows it."
   ]
  }
 ],
 "metadata": {
  "kernelspec": {
   "display_name": "Python 3",
   "language": "python",
   "name": "python3"
  },
  "language_info": {
   "codemirror_mode": {
    "name": "ipython",
    "version": 3
   },
   "file_extension": ".py",
   "mimetype": "text/x-python",
   "name": "python",
   "nbconvert_exporter": "python",
   "pygments_lexer": "ipython3",
   "version": "3.8.8"
  }
 },
 "nbformat": 4,
 "nbformat_minor": 5
}
